{
 "cells": [
  {
   "cell_type": "markdown",
   "metadata": {
    "colab": {},
    "colab_type": "code",
    "id": "Cc6GE7N-Ryu6"
   },
   "source": [
    "# DATA MODELING"
   ]
  },
  {
   "cell_type": "code",
   "execution_count": 22,
   "metadata": {},
   "outputs": [],
   "source": [
    "import numpy as np\n",
    "import pandas as pd\n",
    "import matplotlib.pyplot as plt"
   ]
  },
  {
   "cell_type": "code",
   "execution_count": 2,
   "metadata": {
    "colab": {},
    "colab_type": "code",
    "id": "npq5AVl5R7si"
   },
   "outputs": [],
   "source": [
    "%matplotlib inline"
   ]
  },
  {
   "cell_type": "code",
   "execution_count": 3,
   "metadata": {
    "colab": {},
    "colab_type": "code",
    "id": "AvuNb_kKS-J9"
   },
   "outputs": [],
   "source": [
    "url = \"https://raw.githubusercontent.com/SIDDHARTHA2301/DATA/master/d1.csv\"\n",
    "df = pd.read_csv(url)"
   ]
  },
  {
   "cell_type": "code",
   "execution_count": 4,
   "metadata": {
    "colab": {
     "base_uri": "https://localhost:8080/",
     "height": 202
    },
    "colab_type": "code",
    "id": "qpWXIlNOTFAJ",
    "outputId": "20d795d6-9c23-4775-b222-bbefc03f4dcb"
   },
   "outputs": [
    {
     "data": {
      "text/html": [
       "<div>\n",
       "<style scoped>\n",
       "    .dataframe tbody tr th:only-of-type {\n",
       "        vertical-align: middle;\n",
       "    }\n",
       "\n",
       "    .dataframe tbody tr th {\n",
       "        vertical-align: top;\n",
       "    }\n",
       "\n",
       "    .dataframe thead th {\n",
       "        text-align: right;\n",
       "    }\n",
       "</style>\n",
       "<table border=\"1\" class=\"dataframe\">\n",
       "  <thead>\n",
       "    <tr style=\"text-align: right;\">\n",
       "      <th></th>\n",
       "      <th>Unnamed: 0</th>\n",
       "      <th>Group</th>\n",
       "      <th>Contour</th>\n",
       "      <th>Depth</th>\n",
       "      <th>Gp</th>\n",
       "      <th>Block</th>\n",
       "      <th>pH</th>\n",
       "      <th>N</th>\n",
       "      <th>Dens</th>\n",
       "      <th>P</th>\n",
       "      <th>Ca</th>\n",
       "      <th>Mg</th>\n",
       "      <th>K</th>\n",
       "      <th>Na</th>\n",
       "      <th>Conduc</th>\n",
       "    </tr>\n",
       "  </thead>\n",
       "  <tbody>\n",
       "    <tr>\n",
       "      <th>0</th>\n",
       "      <td>1</td>\n",
       "      <td>1</td>\n",
       "      <td>Top</td>\n",
       "      <td>0-10</td>\n",
       "      <td>T0</td>\n",
       "      <td>1</td>\n",
       "      <td>5.40</td>\n",
       "      <td>0.188</td>\n",
       "      <td>0.92</td>\n",
       "      <td>215</td>\n",
       "      <td>16.35</td>\n",
       "      <td>7.65</td>\n",
       "      <td>0.72</td>\n",
       "      <td>1.14</td>\n",
       "      <td>1.09</td>\n",
       "    </tr>\n",
       "    <tr>\n",
       "      <th>1</th>\n",
       "      <td>2</td>\n",
       "      <td>1</td>\n",
       "      <td>Top</td>\n",
       "      <td>0-10</td>\n",
       "      <td>T0</td>\n",
       "      <td>2</td>\n",
       "      <td>5.65</td>\n",
       "      <td>0.165</td>\n",
       "      <td>1.04</td>\n",
       "      <td>208</td>\n",
       "      <td>12.25</td>\n",
       "      <td>5.15</td>\n",
       "      <td>0.71</td>\n",
       "      <td>0.94</td>\n",
       "      <td>1.35</td>\n",
       "    </tr>\n",
       "    <tr>\n",
       "      <th>2</th>\n",
       "      <td>3</td>\n",
       "      <td>1</td>\n",
       "      <td>Top</td>\n",
       "      <td>0-10</td>\n",
       "      <td>T0</td>\n",
       "      <td>3</td>\n",
       "      <td>5.14</td>\n",
       "      <td>0.260</td>\n",
       "      <td>0.95</td>\n",
       "      <td>300</td>\n",
       "      <td>13.02</td>\n",
       "      <td>5.68</td>\n",
       "      <td>0.68</td>\n",
       "      <td>0.60</td>\n",
       "      <td>1.41</td>\n",
       "    </tr>\n",
       "    <tr>\n",
       "      <th>3</th>\n",
       "      <td>4</td>\n",
       "      <td>1</td>\n",
       "      <td>Top</td>\n",
       "      <td>0-10</td>\n",
       "      <td>T0</td>\n",
       "      <td>4</td>\n",
       "      <td>5.14</td>\n",
       "      <td>0.169</td>\n",
       "      <td>1.10</td>\n",
       "      <td>248</td>\n",
       "      <td>11.92</td>\n",
       "      <td>7.88</td>\n",
       "      <td>1.09</td>\n",
       "      <td>1.01</td>\n",
       "      <td>1.64</td>\n",
       "    </tr>\n",
       "    <tr>\n",
       "      <th>4</th>\n",
       "      <td>5</td>\n",
       "      <td>2</td>\n",
       "      <td>Top</td>\n",
       "      <td>10-30</td>\n",
       "      <td>T1</td>\n",
       "      <td>1</td>\n",
       "      <td>5.14</td>\n",
       "      <td>0.164</td>\n",
       "      <td>1.12</td>\n",
       "      <td>174</td>\n",
       "      <td>14.17</td>\n",
       "      <td>8.12</td>\n",
       "      <td>0.70</td>\n",
       "      <td>2.17</td>\n",
       "      <td>1.85</td>\n",
       "    </tr>\n",
       "  </tbody>\n",
       "</table>\n",
       "</div>"
      ],
      "text/plain": [
       "   Unnamed: 0  Group Contour  Depth  Gp  Block    pH      N  Dens    P     Ca  \\\n",
       "0           1      1     Top   0-10  T0      1  5.40  0.188  0.92  215  16.35   \n",
       "1           2      1     Top   0-10  T0      2  5.65  0.165  1.04  208  12.25   \n",
       "2           3      1     Top   0-10  T0      3  5.14  0.260  0.95  300  13.02   \n",
       "3           4      1     Top   0-10  T0      4  5.14  0.169  1.10  248  11.92   \n",
       "4           5      2     Top  10-30  T1      1  5.14  0.164  1.12  174  14.17   \n",
       "\n",
       "     Mg     K    Na  Conduc  \n",
       "0  7.65  0.72  1.14    1.09  \n",
       "1  5.15  0.71  0.94    1.35  \n",
       "2  5.68  0.68  0.60    1.41  \n",
       "3  7.88  1.09  1.01    1.64  \n",
       "4  8.12  0.70  2.17    1.85  "
      ]
     },
     "execution_count": 4,
     "metadata": {},
     "output_type": "execute_result"
    }
   ],
   "source": [
    "df.head()"
   ]
  },
  {
   "cell_type": "code",
   "execution_count": 5,
   "metadata": {
    "colab": {},
    "colab_type": "code",
    "id": "hbCdqZQITHNj"
   },
   "outputs": [],
   "source": [
    "df.set_index('Unnamed: 0',inplace = True)"
   ]
  },
  {
   "cell_type": "code",
   "execution_count": 6,
   "metadata": {
    "colab": {},
    "colab_type": "code",
    "id": "51IQ418KTV8J"
   },
   "outputs": [],
   "source": [
    "data = df[['P','Ca','Mg','K','Na','pH']]"
   ]
  },
  {
   "cell_type": "code",
   "execution_count": 7,
   "metadata": {
    "colab": {
     "base_uri": "https://localhost:8080/",
     "height": 233
    },
    "colab_type": "code",
    "id": "ep_BMh4cThdS",
    "outputId": "d3323858-ca9a-4f42-d615-f325a1ff50ba"
   },
   "outputs": [
    {
     "data": {
      "text/html": [
       "<div>\n",
       "<style scoped>\n",
       "    .dataframe tbody tr th:only-of-type {\n",
       "        vertical-align: middle;\n",
       "    }\n",
       "\n",
       "    .dataframe tbody tr th {\n",
       "        vertical-align: top;\n",
       "    }\n",
       "\n",
       "    .dataframe thead th {\n",
       "        text-align: right;\n",
       "    }\n",
       "</style>\n",
       "<table border=\"1\" class=\"dataframe\">\n",
       "  <thead>\n",
       "    <tr style=\"text-align: right;\">\n",
       "      <th></th>\n",
       "      <th>P</th>\n",
       "      <th>Ca</th>\n",
       "      <th>Mg</th>\n",
       "      <th>K</th>\n",
       "      <th>Na</th>\n",
       "      <th>pH</th>\n",
       "    </tr>\n",
       "    <tr>\n",
       "      <th>Unnamed: 0</th>\n",
       "      <th></th>\n",
       "      <th></th>\n",
       "      <th></th>\n",
       "      <th></th>\n",
       "      <th></th>\n",
       "      <th></th>\n",
       "    </tr>\n",
       "  </thead>\n",
       "  <tbody>\n",
       "    <tr>\n",
       "      <th>1</th>\n",
       "      <td>215</td>\n",
       "      <td>16.35</td>\n",
       "      <td>7.65</td>\n",
       "      <td>0.72</td>\n",
       "      <td>1.14</td>\n",
       "      <td>5.40</td>\n",
       "    </tr>\n",
       "    <tr>\n",
       "      <th>2</th>\n",
       "      <td>208</td>\n",
       "      <td>12.25</td>\n",
       "      <td>5.15</td>\n",
       "      <td>0.71</td>\n",
       "      <td>0.94</td>\n",
       "      <td>5.65</td>\n",
       "    </tr>\n",
       "    <tr>\n",
       "      <th>3</th>\n",
       "      <td>300</td>\n",
       "      <td>13.02</td>\n",
       "      <td>5.68</td>\n",
       "      <td>0.68</td>\n",
       "      <td>0.60</td>\n",
       "      <td>5.14</td>\n",
       "    </tr>\n",
       "    <tr>\n",
       "      <th>4</th>\n",
       "      <td>248</td>\n",
       "      <td>11.92</td>\n",
       "      <td>7.88</td>\n",
       "      <td>1.09</td>\n",
       "      <td>1.01</td>\n",
       "      <td>5.14</td>\n",
       "    </tr>\n",
       "    <tr>\n",
       "      <th>5</th>\n",
       "      <td>174</td>\n",
       "      <td>14.17</td>\n",
       "      <td>8.12</td>\n",
       "      <td>0.70</td>\n",
       "      <td>2.17</td>\n",
       "      <td>5.14</td>\n",
       "    </tr>\n",
       "  </tbody>\n",
       "</table>\n",
       "</div>"
      ],
      "text/plain": [
       "              P     Ca    Mg     K    Na    pH\n",
       "Unnamed: 0                                    \n",
       "1           215  16.35  7.65  0.72  1.14  5.40\n",
       "2           208  12.25  5.15  0.71  0.94  5.65\n",
       "3           300  13.02  5.68  0.68  0.60  5.14\n",
       "4           248  11.92  7.88  1.09  1.01  5.14\n",
       "5           174  14.17  8.12  0.70  2.17  5.14"
      ]
     },
     "execution_count": 7,
     "metadata": {},
     "output_type": "execute_result"
    }
   ],
   "source": [
    "data.head()"
   ]
  },
  {
   "cell_type": "code",
   "execution_count": 8,
   "metadata": {
    "colab": {
     "base_uri": "https://localhost:8080/",
     "height": 139
    },
    "colab_type": "code",
    "id": "xilX6GkJTlKY",
    "outputId": "c6abd9cf-23ec-4cf2-cba7-e10b606e09c2"
   },
   "outputs": [
    {
     "data": {
      "text/plain": [
       "P     0.591030\n",
       "Ca    0.808629\n",
       "Mg   -0.395782\n",
       "K     0.579573\n",
       "Na   -0.693261\n",
       "pH    1.000000\n",
       "Name: pH, dtype: float64"
      ]
     },
     "execution_count": 8,
     "metadata": {},
     "output_type": "execute_result"
    }
   ],
   "source": [
    "data.corr()['pH']"
   ]
  },
  {
   "cell_type": "code",
   "execution_count": 9,
   "metadata": {
    "colab": {},
    "colab_type": "code",
    "id": "W_11ELOFUUYu"
   },
   "outputs": [],
   "source": [
    "msk = np.random.rand(len(df)) < 0.8\n",
    "train = data[msk]\n",
    "test = data[~msk]"
   ]
  },
  {
   "cell_type": "code",
   "execution_count": 10,
   "metadata": {
    "colab": {
     "base_uri": "https://localhost:8080/",
     "height": 35
    },
    "colab_type": "code",
    "id": "svN7pirxVE1Z",
    "outputId": "7647b997-f712-4473-d532-e781a35f1d07"
   },
   "outputs": [
    {
     "data": {
      "text/plain": [
       "(40, 6)"
      ]
     },
     "execution_count": 10,
     "metadata": {},
     "output_type": "execute_result"
    }
   ],
   "source": [
    "train.shape"
   ]
  },
  {
   "cell_type": "markdown",
   "metadata": {
    "colab": {
     "base_uri": "https://localhost:8080/",
     "height": 35
    },
    "colab_type": "code",
    "id": "L6iIVa6YVIHh",
    "outputId": "b00037fc-b9fb-4a95-f3c1-86e149ad7d2d"
   },
   "source": [
    "# MULTIPLE LINEAR REGRESSION "
   ]
  },
  {
   "cell_type": "code",
   "execution_count": 14,
   "metadata": {
    "colab": {
     "base_uri": "https://localhost:8080/",
     "height": 35
    },
    "colab_type": "code",
    "id": "jNW6lfRcVKXd",
    "outputId": "6ecb5e6c-0a90-4b15-e608-b52e0f117b58"
   },
   "outputs": [
    {
     "name": "stdout",
     "output_type": "stream",
     "text": [
      "Coefficients:  [[ 0.00022803  0.1560726  -0.02185034 -0.13791058 -0.0164205 ]]\n"
     ]
    }
   ],
   "source": [
    "from sklearn import linear_model\n",
    "regr = linear_model.LinearRegression()\n",
    "x = np.asanyarray(train[['P','Ca','Mg','K','Na']])\n",
    "y = np.asanyarray(train[['pH']])\n",
    "regr.fit (x, y)\n",
    "# The coefficients\n",
    "print ('Coefficients: ', regr.coef_)"
   ]
  },
  {
   "cell_type": "code",
   "execution_count": 15,
   "metadata": {
    "colab": {
     "base_uri": "https://localhost:8080/",
     "height": 69
    },
    "colab_type": "code",
    "id": "Q4c9-65DVd3I",
    "outputId": "c6d7d629-c361-4124-fd90-2db2b6a779c5"
   },
   "outputs": [
    {
     "name": "stdout",
     "output_type": "stream",
     "text": [
      "Residual sum of squares: 0.09\n",
      "Variance score of Testing Set: 0.69\n"
     ]
    }
   ],
   "source": [
    "y_hat= regr.predict(test[['P','Ca','Mg','K','Na']])\n",
    "x_test = np.asanyarray(test[['P','Ca','Mg','K','Na']])\n",
    "y_test = np.asanyarray(test[['pH']])\n",
    "print(\"Residual sum of squares: %.2f\"\n",
    "      % np.mean((y_hat - y_test) ** 2))\n",
    "\n",
    "# Explained variance score: 1 is perfect prediction\n",
    "print('Variance score of Testing Set: %.2f' % regr.score(x_test, y_test))\n"
   ]
  },
  {
   "cell_type": "markdown",
   "metadata": {},
   "source": [
    "# POLYNOMIAL REGRESSION WITH DEGREE - 2"
   ]
  },
  {
   "cell_type": "code",
   "execution_count": 16,
   "metadata": {
    "colab": {
     "base_uri": "https://localhost:8080/",
     "height": 139
    },
    "colab_type": "code",
    "id": "PfRUqEF-VuLU",
    "outputId": "b7815704-c54e-4e34-ed1e-ca4733a47928"
   },
   "outputs": [
    {
     "name": "stdout",
     "output_type": "stream",
     "text": [
      "Coefficients:  [[ 0.00000000e+00  1.26626283e-02 -8.13113702e-01 -7.14064848e-01\n",
      "   1.29306746e+01 -3.38981774e-01 -2.77865519e-05  4.05475754e-04\n",
      "  -8.26424988e-04  6.08936745e-03  2.98327315e-04  1.45761742e-02\n",
      "   5.69318579e-02 -2.41050788e-01  6.07689953e-02  4.99627993e-02\n",
      "  -8.31363618e-01 -9.74284930e-03 -2.89768793e+00 -5.34595508e-01\n",
      "   1.32428799e-02]]\n",
      "Intercept:  [7.01060802]\n"
     ]
    }
   ],
   "source": [
    "from sklearn.preprocessing import PolynomialFeatures\n",
    "\n",
    "poly = PolynomialFeatures(degree=2)\n",
    "train_x_poly = poly.fit_transform(x)\n",
    "\n",
    "clf = linear_model.LinearRegression()\n",
    "train_y_ = clf.fit(train_x_poly, y)\n",
    "# The coefficients\n",
    "print ('Coefficients: ', clf.coef_)\n",
    "print ('Intercept: ',clf.intercept_)"
   ]
  },
  {
   "cell_type": "code",
   "execution_count": 17,
   "metadata": {
    "colab": {
     "base_uri": "https://localhost:8080/",
     "height": 69
    },
    "colab_type": "code",
    "id": "_UI57aGDaHKW",
    "outputId": "210ff742-6ce7-4794-87da-fd6be6d35a1f"
   },
   "outputs": [
    {
     "name": "stdout",
     "output_type": "stream",
     "text": [
      "Mean absolute error: 0.23\n",
      "Residual sum of squares (MSE): 0.10\n",
      "R2-score: 0.71\n"
     ]
    }
   ],
   "source": [
    "from sklearn.metrics import r2_score\n",
    "\n",
    "test_x_poly = poly.fit_transform(x_test)\n",
    "test_y_ = clf.predict(test_x_poly)\n",
    "\n",
    "print(\"Mean absolute error: %.2f\" % np.mean(np.absolute(test_y_ - y_test)))\n",
    "print(\"Residual sum of squares (MSE): %.2f\" % np.mean((test_y_ - y_test) ** 2))\n",
    "print(\"R2-score: %.2f\" % r2_score(test_y_ , y_test) )"
   ]
  },
  {
   "cell_type": "code",
   "execution_count": 107,
   "metadata": {
    "colab": {
     "base_uri": "https://localhost:8080/",
     "height": 69
    },
    "colab_type": "code",
    "id": "k-q-5XstaxzI",
    "outputId": "5852e631-8bf7-41b7-dfe2-d660c1f938f1"
   },
   "outputs": [
    {
     "name": "stdout",
     "output_type": "stream",
     "text": [
      "Mean absolute error: 0.08\n",
      "Residual sum of squares (MSE): 0.01\n",
      "R2-score: 0.96\n"
     ]
    }
   ],
   "source": [
    "train_y_ = clf.predict(train_x_poly)\n",
    "\n",
    "print(\"Mean absolute error: %.2f\" % np.mean(np.absolute(train_y_ - y)))\n",
    "print(\"Residual sum of squares (MSE): %.2f\" % np.mean((train_y_ - y) ** 2))\n",
    "print(\"R2-score: %.2f\" % r2_score(test_y_ , y) )"
   ]
  },
  {
   "cell_type": "markdown",
   "metadata": {},
   "source": [
    "# POLYNOMIAL REGRESSION WITH DEGREE - 3"
   ]
  },
  {
   "cell_type": "code",
   "execution_count": 20,
   "metadata": {
    "colab": {
     "base_uri": "https://localhost:8080/",
     "height": 69
    },
    "colab_type": "code",
    "id": "C7ufnlt7bmag",
    "outputId": "98d05928-6eb4-4167-cecf-7c8be8fd61a3"
   },
   "outputs": [
    {
     "name": "stdout",
     "output_type": "stream",
     "text": [
      "Mean absolute error: 0.00\n",
      "Residual sum of squares (MSE): 0.00\n",
      "R2-score: 1.00\n"
     ]
    }
   ],
   "source": [
    "from sklearn.preprocessing import PolynomialFeatures\n",
    "\n",
    "poly3 = PolynomialFeatures(degree=3)\n",
    "train_x_poly3 = poly3.fit_transform(x)\n",
    "\n",
    "clf3 = linear_model.LinearRegression()\n",
    "train_y_3 = clf3.fit(train_x_poly3, y)\n",
    "\n",
    "train_y_3 = clf3.predict(train_x_poly3)\n",
    "\n",
    "\n",
    "#train_y_3 = clf.predict(train_x_poly)\n",
    "\n",
    "print(\"Mean absolute error: %.2f\" % np.mean(np.absolute(train_y_3 - y)))\n",
    "print(\"Residual sum of squares (MSE): %.2f\" % np.mean((train_y_3 - y) ** 2))\n",
    "print(\"R2-score: %.2f\" % r2_score(train_y_3 , y) )"
   ]
  },
  {
   "cell_type": "code",
   "execution_count": 21,
   "metadata": {
    "colab": {
     "base_uri": "https://localhost:8080/",
     "height": 69
    },
    "colab_type": "code",
    "id": "WKeU6JiFcZy2",
    "outputId": "0c6b9655-0c00-44ec-e865-c66042f77781"
   },
   "outputs": [
    {
     "name": "stdout",
     "output_type": "stream",
     "text": [
      "Mean absolute error: 1.26\n",
      "Residual sum of squares (MSE): 3.72\n",
      "R2-score: -0.46\n"
     ]
    }
   ],
   "source": [
    "from sklearn.metrics import r2_score\n",
    "\n",
    "test_x_poly3 = poly3.fit_transform(x_test)\n",
    "test_y_3 = clf3.predict(test_x_poly3)\n",
    "\n",
    "print(\"Mean absolute error: %.2f\" % np.mean(np.absolute(test_y_3 - y_test)))\n",
    "print(\"Residual sum of squares (MSE): %.2f\" % np.mean((test_y_3 - y_test) ** 2))\n",
    "print(\"R2-score: %.2f\" % r2_score(test_y_3 , y_test) )"
   ]
  },
  {
   "cell_type": "markdown",
   "metadata": {
    "colab": {},
    "colab_type": "code",
    "id": "g2ji1lGhdb7f"
   },
   "source": [
    "# CONCLUSION "
   ]
  },
  {
   "cell_type": "markdown",
   "metadata": {},
   "source": [
    "# 1. Multiple linear regression - 70\n",
    "# 2. polynomial regression (2) - 96\n",
    "# 3. polynomial regression (3) -  overfitting"
   ]
  },
  {
   "cell_type": "markdown",
   "metadata": {},
   "source": [
    "###  Polynomial regression with degree is best fit"
   ]
  },
  {
   "cell_type": "code",
   "execution_count": null,
   "metadata": {},
   "outputs": [],
   "source": []
  }
 ],
 "metadata": {
  "colab": {
   "name": "Soil_pH_Prediction.ipynb",
   "provenance": []
  },
  "kernelspec": {
   "display_name": "Python 3",
   "language": "python",
   "name": "python3"
  },
  "language_info": {
   "codemirror_mode": {
    "name": "ipython",
    "version": 3
   },
   "file_extension": ".py",
   "mimetype": "text/x-python",
   "name": "python",
   "nbconvert_exporter": "python",
   "pygments_lexer": "ipython3",
   "version": "3.7.3"
  }
 },
 "nbformat": 4,
 "nbformat_minor": 1
}
